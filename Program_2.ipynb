{
 "cells": [
  {
   "cell_type": "code",
   "execution_count": 1,
   "id": "daedfb2c",
   "metadata": {},
   "outputs": [],
   "source": [
    "import pandas as pd\n",
    "import numpy as np"
   ]
  },
  {
   "cell_type": "code",
   "execution_count": 2,
   "id": "06a82b04",
   "metadata": {},
   "outputs": [],
   "source": [
    "data=pd.read_csv('prog1.csv')\n",
    "concept=np.array(data)[:,:-1]\n",
    "target=np.array(data)[:,-1]"
   ]
  },
  {
   "cell_type": "code",
   "execution_count": 3,
   "id": "f116fdd7",
   "metadata": {},
   "outputs": [
    {
     "data": {
      "text/plain": [
       "array([['sunny', 'warm', 'normal', 'strong', 'warm', 'same'],\n",
       "       ['sunny', 'warm', 'high', 'strong', 'warm', 'same'],\n",
       "       ['rainy', 'cold', 'high', 'strong', 'warm', 'change'],\n",
       "       ['sunny', 'warm', 'high', 'strong', 'cold', 'change']],\n",
       "      dtype=object)"
      ]
     },
     "execution_count": 3,
     "metadata": {},
     "output_type": "execute_result"
    }
   ],
   "source": [
    "concept"
   ]
  },
  {
   "cell_type": "code",
   "execution_count": 4,
   "id": "442264fe",
   "metadata": {},
   "outputs": [
    {
     "data": {
      "text/plain": [
       "array(['yes', 'yes', 'no', 'yes'], dtype=object)"
      ]
     },
     "execution_count": 4,
     "metadata": {},
     "output_type": "execute_result"
    }
   ],
   "source": [
    "target"
   ]
  },
  {
   "cell_type": "code",
   "execution_count": 45,
   "id": "9a163f23",
   "metadata": {},
   "outputs": [],
   "source": [
    "def learn(concept,target):\n",
    "    sh=concept[0].copy()\n",
    "    print(\"The Specific hypothesis is :\",sh)\n",
    "    gh=[['?'for i in range(len(sh))]for i in range(len(sh))]\n",
    "    print(\"The general Hypothesis is:\",gh)\n",
    "    for i ,h in enumerate(concept):\n",
    "        print(\"Instance\",i+1,\"is:\",h)\n",
    "        if target[i]==\"yes\":\n",
    "            print(\"Instance is positive:\")\n",
    "            for x in range(len(sh)):\n",
    "                if h[x]!=sh[x]:\n",
    "                    sh[x]='?'\n",
    "                    gh[x][x]=\"?\"\n",
    "                    print(sh)\n",
    "    \n",
    "    for i,h in enumerate(concept):\n",
    "        if target[i]==\"no\":\n",
    "            for x in range(len(sh)):\n",
    "                if h[x]!=sh[x]:\n",
    "                    gh[x][x]=sh[x]\n",
    "                else:\n",
    "                    gh[x][x]=\"?\"\n",
    "            print(\"Specific Boundry of the\",i+1,\"is:\",sh)\n",
    "            \n",
    "    indices=[i for i, val in enumerate(gh) if val==['?','?','?','?','?','?','?']]\n",
    "    \n",
    "    for i in indices:\n",
    "        gh.remove(['?','?','?','?','?','?','?'])\n",
    "    return sh,gh"
   ]
  },
  {
   "cell_type": "code",
   "execution_count": 48,
   "id": "1b1ea5d6",
   "metadata": {},
   "outputs": [
    {
     "name": "stdout",
     "output_type": "stream",
     "text": [
      "The Specific hypothesis is : ['sunny' 'warm' 'normal' 'strong' 'warm' 'same']\n",
      "The general Hypothesis is: [['?', '?', '?', '?', '?', '?'], ['?', '?', '?', '?', '?', '?'], ['?', '?', '?', '?', '?', '?'], ['?', '?', '?', '?', '?', '?'], ['?', '?', '?', '?', '?', '?'], ['?', '?', '?', '?', '?', '?']]\n",
      "Instance 1 is: ['sunny' 'warm' 'normal' 'strong' 'warm' 'same']\n",
      "Instance is positive:\n",
      "Instance 2 is: ['sunny' 'warm' 'high' 'strong' 'warm' 'same']\n",
      "Instance is positive:\n",
      "['sunny' 'warm' '?' 'strong' 'warm' 'same']\n",
      "Instance 3 is: ['rainy' 'cold' 'high' 'strong' 'warm' 'change']\n",
      "Instance 4 is: ['sunny' 'warm' 'high' 'strong' 'cold' 'change']\n",
      "Instance is positive:\n",
      "['sunny' 'warm' '?' 'strong' 'warm' 'same']\n",
      "['sunny' 'warm' '?' 'strong' '?' 'same']\n",
      "['sunny' 'warm' '?' 'strong' '?' '?']\n",
      "Specific Boundry of the 3 is: ['sunny' 'warm' '?' 'strong' '?' '?']\n",
      "The Final Specific Hypothesis is: ['sunny' 'warm' '?' 'strong' '?' '?']\n",
      "The Final General Hypothesis is: [['sunny', '?', '?', '?', '?', '?'], ['?', 'warm', '?', '?', '?', '?'], ['?', '?', '?', '?', '?', '?'], ['?', '?', '?', '?', '?', '?'], ['?', '?', '?', '?', '?', '?'], ['?', '?', '?', '?', '?', '?']]\n"
     ]
    }
   ],
   "source": [
    "sh_final,gh_final=learn(concept,target)\n",
    "print(\"The Final Specific Hypothesis is:\",sh_final)\n",
    "print(\"The Final General Hypothesis is:\",gh_final)"
   ]
  },
  {
   "cell_type": "code",
   "execution_count": null,
   "id": "10a359a2",
   "metadata": {},
   "outputs": [],
   "source": []
  },
  {
   "cell_type": "code",
   "execution_count": null,
   "id": "9190d2c2",
   "metadata": {},
   "outputs": [],
   "source": []
  }
 ],
 "metadata": {
  "kernelspec": {
   "display_name": "Python 3 (ipykernel)",
   "language": "python",
   "name": "python3"
  },
  "language_info": {
   "codemirror_mode": {
    "name": "ipython",
    "version": 3
   },
   "file_extension": ".py",
   "mimetype": "text/x-python",
   "name": "python",
   "nbconvert_exporter": "python",
   "pygments_lexer": "ipython3",
   "version": "3.9.13"
  }
 },
 "nbformat": 4,
 "nbformat_minor": 5
}
