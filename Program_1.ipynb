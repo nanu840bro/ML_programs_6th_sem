{
 "cells": [
  {
   "cell_type": "code",
   "execution_count": 2,
   "id": "2d46ab8a",
   "metadata": {},
   "outputs": [],
   "source": [
    "import pandas as pd\n",
    "import numpy as np"
   ]
  },
  {
   "cell_type": "code",
   "execution_count": 4,
   "id": "a1c09dbc",
   "metadata": {},
   "outputs": [],
   "source": [
    "data=pd.read_csv('prog1.csv')\n",
    "concept=np.array(data)[:,:-1]\n",
    "target=np.array(data)[:,-1]"
   ]
  },
  {
   "cell_type": "code",
   "execution_count": 5,
   "id": "044892b2",
   "metadata": {},
   "outputs": [
    {
     "name": "stdout",
     "output_type": "stream",
     "text": [
      "[['sunny' 'warm' 'normal' 'strong' 'warm' 'same']\n",
      " ['sunny' 'warm' 'high' 'strong' 'warm' 'same']\n",
      " ['rainy' 'cold' 'high' 'strong' 'warm' 'change']\n",
      " ['sunny' 'warm' 'high' 'strong' 'cold' 'change']]\n"
     ]
    }
   ],
   "source": [
    "print(concept)"
   ]
  },
  {
   "cell_type": "code",
   "execution_count": 6,
   "id": "57bf0e12",
   "metadata": {},
   "outputs": [
    {
     "data": {
      "text/plain": [
       "array(['yes', 'yes', 'no', 'yes'], dtype=object)"
      ]
     },
     "execution_count": 6,
     "metadata": {},
     "output_type": "execute_result"
    }
   ],
   "source": [
    "target"
   ]
  },
  {
   "cell_type": "code",
   "execution_count": 10,
   "id": "e06b4606",
   "metadata": {},
   "outputs": [],
   "source": [
    "def train(con,tar):\n",
    "    specific_h=None;\n",
    "    for i,val in enumerate(tar):\n",
    "        if val==\"yes\":\n",
    "            specific_h=con[i].copy()\n",
    "            break;\n",
    "        if specific_h==None:\n",
    "            return(\"Specific Hypothesis Cannot be processed\")\n",
    "        \n",
    "    for i,val in enumerate(con):\n",
    "        if tar[i]==\"yes\":\n",
    "            for x in range(len(specific_h)):\n",
    "                if val[x]!=specific_h[x]:\n",
    "                    specific_h[x]=\"?\"\n",
    "    return(specific_h)"
   ]
  },
  {
   "cell_type": "code",
   "execution_count": 11,
   "id": "e890b258",
   "metadata": {},
   "outputs": [
    {
     "name": "stdout",
     "output_type": "stream",
     "text": [
      "['sunny' 'warm' '?' 'strong' '?' '?']\n"
     ]
    }
   ],
   "source": [
    "print(train(concept,target))"
   ]
  },
  {
   "cell_type": "code",
   "execution_count": null,
   "id": "d0cf5b97",
   "metadata": {},
   "outputs": [],
   "source": []
  }
 ],
 "metadata": {
  "kernelspec": {
   "display_name": "Python 3 (ipykernel)",
   "language": "python",
   "name": "python3"
  },
  "language_info": {
   "codemirror_mode": {
    "name": "ipython",
    "version": 3
   },
   "file_extension": ".py",
   "mimetype": "text/x-python",
   "name": "python",
   "nbconvert_exporter": "python",
   "pygments_lexer": "ipython3",
   "version": "3.9.13"
  }
 },
 "nbformat": 4,
 "nbformat_minor": 5
}
