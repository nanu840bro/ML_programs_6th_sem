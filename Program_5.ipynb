{
 "cells": [
  {
   "cell_type": "code",
   "execution_count": 18,
   "id": "293657d9",
   "metadata": {},
   "outputs": [],
   "source": [
    "import pandas as pd\n",
    "import numpy as np\n",
    "from sklearn.preprocessing import LabelEncoder\n",
    "from sklearn.model_selection import train_test_split as tts\n",
    "from sklearn.metrics import accuracy_score\n",
    "from sklearn.naive_bayes import GaussianNB"
   ]
  },
  {
   "cell_type": "code",
   "execution_count": 5,
   "id": "39c66897",
   "metadata": {},
   "outputs": [],
   "source": [
    "data=pd.read_csv('prog5.csv')\n",
    "x=data.iloc[:,:-1]\n",
    "y=data.iloc[:,-1]"
   ]
  },
  {
   "cell_type": "code",
   "execution_count": 6,
   "id": "a9b59dbe",
   "metadata": {},
   "outputs": [
    {
     "name": "stdout",
     "output_type": "stream",
     "text": [
      "The first 5 value of concept dataset is:      outlook  temp humidity    wind\n",
      "0     sunny   hot     high    weak\n",
      "1     sunny   hot     high  strong\n",
      "2  overcast   hot     high    weak\n",
      "3      rain  mild     high    weak\n",
      "4      rain  cool   normal    weak\n"
     ]
    }
   ],
   "source": [
    "print(\"The first 5 value of concept dataset is: \",x.head())"
   ]
  },
  {
   "cell_type": "code",
   "execution_count": 7,
   "id": "19503b5e",
   "metadata": {},
   "outputs": [
    {
     "name": "stdout",
     "output_type": "stream",
     "text": [
      "The first 5 value of target dataset is:  0     no\n",
      "1     no\n",
      "2    yes\n",
      "3    yes\n",
      "4    yes\n",
      "Name: playtennis, dtype: object\n"
     ]
    }
   ],
   "source": [
    "print(\"The first 5 value of target dataset is: \",y.head())"
   ]
  },
  {
   "cell_type": "code",
   "execution_count": 12,
   "id": "f113fd34",
   "metadata": {},
   "outputs": [
    {
     "name": "stderr",
     "output_type": "stream",
     "text": [
      "C:\\Users\\User\\AppData\\Local\\Temp\\ipykernel_10752\\446560848.py:2: SettingWithCopyWarning: \n",
      "A value is trying to be set on a copy of a slice from a DataFrame.\n",
      "Try using .loc[row_indexer,col_indexer] = value instead\n",
      "\n",
      "See the caveats in the documentation: https://pandas.pydata.org/pandas-docs/stable/user_guide/indexing.html#returning-a-view-versus-a-copy\n",
      "  x.outlook=le.fit_transform(x.outlook)\n",
      "C:\\Users\\User\\AppData\\Local\\Temp\\ipykernel_10752\\446560848.py:3: SettingWithCopyWarning: \n",
      "A value is trying to be set on a copy of a slice from a DataFrame.\n",
      "Try using .loc[row_indexer,col_indexer] = value instead\n",
      "\n",
      "See the caveats in the documentation: https://pandas.pydata.org/pandas-docs/stable/user_guide/indexing.html#returning-a-view-versus-a-copy\n",
      "  x.temp=le.fit_transform(x.temp)\n",
      "C:\\Users\\User\\AppData\\Local\\Temp\\ipykernel_10752\\446560848.py:4: SettingWithCopyWarning: \n",
      "A value is trying to be set on a copy of a slice from a DataFrame.\n",
      "Try using .loc[row_indexer,col_indexer] = value instead\n",
      "\n",
      "See the caveats in the documentation: https://pandas.pydata.org/pandas-docs/stable/user_guide/indexing.html#returning-a-view-versus-a-copy\n",
      "  x.humidity=le.fit_transform(x.humidity )\n",
      "C:\\Users\\User\\AppData\\Local\\Temp\\ipykernel_10752\\446560848.py:5: SettingWithCopyWarning: \n",
      "A value is trying to be set on a copy of a slice from a DataFrame.\n",
      "Try using .loc[row_indexer,col_indexer] = value instead\n",
      "\n",
      "See the caveats in the documentation: https://pandas.pydata.org/pandas-docs/stable/user_guide/indexing.html#returning-a-view-versus-a-copy\n",
      "  x.wind=le.fit_transform(x.wind)\n"
     ]
    }
   ],
   "source": [
    "le=LabelEncoder()\n",
    "x.outlook=le.fit_transform(x.outlook)\n",
    "x.temp=le.fit_transform(x.temp)\n",
    "x.humidity=le.fit_transform(x.humidity )\n",
    "x.wind=le.fit_transform(x.wind)"
   ]
  },
  {
   "cell_type": "code",
   "execution_count": 13,
   "id": "a1cece29",
   "metadata": {},
   "outputs": [
    {
     "name": "stdout",
     "output_type": "stream",
     "text": [
      "The first 5 value of concept dataset is:     outlook  temp  humidity  wind\n",
      "0        2     1         0     1\n",
      "1        2     1         0     0\n",
      "2        0     1         0     1\n",
      "3        1     2         0     1\n",
      "4        1     0         1     1\n"
     ]
    }
   ],
   "source": [
    "print(\"The first 5 value of concept dataset is: \",x.head())"
   ]
  },
  {
   "cell_type": "code",
   "execution_count": 26,
   "id": "8c67360e",
   "metadata": {},
   "outputs": [
    {
     "name": "stdout",
     "output_type": "stream",
     "text": [
      "The first 5 value of concept dataset is:  0     no\n",
      "1     no\n",
      "2    yes\n",
      "3    yes\n",
      "4    yes\n",
      "Name: playtennis, dtype: object\n"
     ]
    }
   ],
   "source": [
    "print(\"The first 5 value of concept dataset is: \",y.head())"
   ]
  },
  {
   "cell_type": "code",
   "execution_count": 27,
   "id": "a1b8aaaa",
   "metadata": {},
   "outputs": [
    {
     "name": "stdout",
     "output_type": "stream",
     "text": [
      "The Accuracy of the NAive Bayes Algorithm for present Model is : 1.0\n"
     ]
    }
   ],
   "source": [
    "x_train,x_test,y_train,y_test=tts(x,y,test_size=0.2,random_state=42)\n",
    "gb=GaussianNB()\n",
    "gb.fit(x_train,y_train)\n",
    "y_pred=gb.predict(x_test)\n",
    "a=accuracy_score(y_pred,y_test)\n",
    "print(\"The Accuracy of the NAive Bayes Algorithm for present Model is :\",a)"
   ]
  },
  {
   "cell_type": "code",
   "execution_count": null,
   "id": "e2d502d7",
   "metadata": {},
   "outputs": [],
   "source": []
  },
  {
   "cell_type": "code",
   "execution_count": null,
   "id": "ac70a4c3",
   "metadata": {},
   "outputs": [],
   "source": []
  }
 ],
 "metadata": {
  "kernelspec": {
   "display_name": "Python 3 (ipykernel)",
   "language": "python",
   "name": "python3"
  },
  "language_info": {
   "codemirror_mode": {
    "name": "ipython",
    "version": 3
   },
   "file_extension": ".py",
   "mimetype": "text/x-python",
   "name": "python",
   "nbconvert_exporter": "python",
   "pygments_lexer": "ipython3",
   "version": "3.9.13"
  }
 },
 "nbformat": 4,
 "nbformat_minor": 5
}
