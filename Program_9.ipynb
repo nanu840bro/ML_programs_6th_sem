{
 "cells": [
  {
   "cell_type": "code",
   "execution_count": null,
   "id": "4a4227ad",
   "metadata": {},
   "outputs": [],
   "source": [
    "from math import ceil\n",
    "import numpy as np\n",
    "from scipy import linalg"
   ]
  },
  {
   "cell_type": "code",
   "execution_count": 26,
   "id": "ba1bcc3b",
   "metadata": {},
   "outputs": [
    {
     "data": {
      "text/plain": [
       "[<matplotlib.lines.Line2D at 0x1bab1d25fd0>]"
      ]
     },
     "execution_count": 26,
     "metadata": {},
     "output_type": "execute_result"
    },
    {
     "data": {
      "image/png": "[encoded data removed]",
      "text/plain": [
       "<Figure size 640x480 with 1 Axes>"
      ]
     },
     "metadata": {},
     "output_type": "display_data"
    }
   ],
   "source": [
    "def lowess(x, y, f, iterations):\n",
    "     n = len(x)\n",
    "     r = int(ceil(f * n))\n",
    "     h = [np.sort(np.abs(x - x[i]))[r] for i in range(n)]\n",
    "     w = np.clip(np.abs((x[:, None] - x[None, :]) / h), 0.0, 1.0)\n",
    "     w = (1 - w ** 3) ** 3\n",
    "     yest = np.zeros(n)\n",
    "     delta = np.ones(n)\n",
    "     for iteration in range(iterations):\n",
    "         for i in range(n):\n",
    "             weights = delta * w[:, i]\n",
    "             b = np.array([np.sum(weights * y), np.sum(weights * y * x)])\n",
    "             A = np.array([[np.sum(weights), np.sum(weights * x)],[np.sum(weights * x), np.sum(weights * x * x)]])\n",
    "             beta = linalg.solve(A, b)\n",
    "             yest[i] = beta[0] + beta[1] * x[i]\n",
    "             residuals = y - yest\n",
    "             s = np.median(np.abs(residuals))\n",
    "             delta = np.clip(residuals / (6.0 * s), -1, 1)\n",
    "             delta = (1 - delta ** 2) ** 2\n",
    "     return yest\n",
    "\n",
    "\n",
    "import matplotlib.pyplot as plt\n",
    "plt.plot(x,y,\"r.\")\n",
    "plt.plot(x,yest,\"b_\")"
   ]
  },
  {
   "cell_type": "code",
   "execution_count": null,
   "id": "b8bc3c35",
   "metadata": {},
   "outputs": [],
   "source": [
    "import math\n",
    "n = 100\n",
    "x = np.linspace(0, 2 * math.pi, n)\n",
    "y = np.sin(x) + 0.3 * np.random.randn(n)\n",
    "f =0.25\n",
    "iterations=3\n",
    "yest = lowess(x, y, f, iterations)"
   ]
  },
  {
   "cell_type": "code",
   "execution_count": null,
   "id": "c6e7281d",
   "metadata": {},
   "outputs": [],
   "source": []
  }
 ],
 "metadata": {
  "kernelspec": {
   "display_name": "Python 3 (ipykernel)",
   "language": "python",
   "name": "python3"
  },
  "language_info": {
   "codemirror_mode": {
    "name": "ipython",
    "version": 3
   },
   "file_extension": ".py",
   "mimetype": "text/x-python",
   "name": "python",
   "nbconvert_exporter": "python",
   "pygments_lexer": "ipython3",
   "version": "3.9.13"
  }
 },
 "nbformat": 4,
 "nbformat_minor": 5
}
